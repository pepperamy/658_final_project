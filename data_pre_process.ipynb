{
 "cells": [
  {
   "cell_type": "code",
   "execution_count": 42,
   "metadata": {
    "collapsed": false
   },
   "outputs": [],
   "source": [
    "'''\n",
    "Airline ID\tUnique OpenFlights identifier for this airline.\n",
    "Name\tName of the airline.\n",
    "Alias\tAlias of the airline. For example, All Nippon Airways is commonly known as \"ANA\".\n",
    "IATA\t2-letter IATA code, if available.\n",
    "ICAO\t3-letter ICAO code, if available.\n",
    "Callsign\tAirline callsign.\n",
    "Country\tCountry or territory where airline is incorporated.\n",
    "Active\t\"Y\" if the airline is or has until recently been operational, \"N\" if it is defunct. This field is not reliable: in particular, major airlines that stopped flying long ago, but have not had their IATA code reassigned (eg. Ansett/AN), will incorrectly show as \"Y\".\n",
    "'''\n",
    "\n",
    "url= 'https://raw.githubusercontent.com/jpatokal/openflights/master/data/airlines.dat'\n",
    "columns = ['Name','Alias','IATA','ICAO','Callsign','Country','Active']\n",
    "data_airline= pd.read_csv(url,names=columns)\n",
    "\n",
    "data_airline.to_csv('airline.csv')\n"
   ]
  },
  {
   "cell_type": "code",
   "execution_count": 44,
   "metadata": {
    "collapsed": false
   },
   "outputs": [],
   "source": [
    "'''\n",
    "Airport ID\tUnique OpenFlights identifier for this airport.\n",
    "Name\tName of airport. May or may not contain the City name.\n",
    "City\tMain city served by airport. May be spelled differently from Name.\n",
    "Country\tCountry or territory where airport is located.\n",
    "IATA/FAA\t3-letter FAA code, for airports located in Country \"United States of America\".\n",
    "3-letter IATA code, for all other airports.\n",
    "Blank if not assigned.\n",
    "ICAO\t4-letter ICAO code.\n",
    "Blank if not assigned.\n",
    "Latitude\tDecimal degrees, usually to six significant digits. Negative is South, positive is North.\n",
    "Longitude\tDecimal degrees, usually to six significant digits. Negative is West, positive is East.\n",
    "Altitude\tIn feet.\n",
    "Timezone\tHours offset from UTC. Fractional hours are expressed as decimals, eg. India is 5.5.\n",
    "DST\tDaylight savings time. One of E (Europe), A (US/Canada), S (South America), O (Australia), Z (New Zealand), N (None) or U (Unknown). See also: Help: Time\n",
    "Tz database time zone\tTimezone in \"tz\" (Olson) format, eg. \"America/Los_Angeles\".\n",
    "'''\n",
    "\n",
    "url = 'https://raw.githubusercontent.com/jpatokal/openflights/master/data/airports.dat'\n",
    "columns = ['Name','City','Country','IATA/FAA','ICAO','Latitude','Longitude','Altitude','Timezone','DST','Tz database time zone']\n",
    "data_airport= pd.read_csv(url,names=columns)\n",
    "\n",
    "data_airport.to_csv('airport.csv')\n"
   ]
  },
  {
   "cell_type": "code",
   "execution_count": 47,
   "metadata": {
    "collapsed": false
   },
   "outputs": [],
   "source": [
    "'''\n",
    "Airline\t2-letter (IATA) or 3-letter (ICAO) code of the airline.\n",
    "Airline ID\tUnique OpenFlights identifier for airline (see Airline).\n",
    "Source airport\t3-letter (IATA) or 4-letter (ICAO) code of the source airport.\n",
    "Source airport ID\tUnique OpenFlights identifier for source airport (see Airport)\n",
    "Destination airport\t3-letter (IATA) or 4-letter (ICAO) code of the destination airport.\n",
    "Destination airport ID\tUnique OpenFlights identifier for destination airport (see Airport)\n",
    "Codeshare\t\"Y\" if this flight is a codeshare (that is, not operated by Airline, but another carrier), empty otherwise.\n",
    "Stops\tNumber of stops on this flight (\"0\" for direct)\n",
    "Equipment\t3-letter codes for plane type(s) generally used on this flight, separated by spaces\n",
    "'''\n",
    "url = 'https://raw.githubusercontent.com/jpatokal/openflights/master/data/routes.dat'\n",
    "columns = ['Airline','Airline ID','Source airport ID','Destination airport','Destination airport ID','Codeshare','Stops','Equipment']\n",
    "data_routes = pd.read_csv(url,names= columns,index_col=False)\n",
    "\n",
    "data_routes.to_csv('routes.csv')"
   ]
  },
  {
   "cell_type": "code",
   "execution_count": null,
   "metadata": {
    "collapsed": true
   },
   "outputs": [],
   "source": []
  }
 ],
 "metadata": {
  "kernelspec": {
   "display_name": "Python [Root]",
   "language": "python",
   "name": "Python [Root]"
  },
  "language_info": {
   "codemirror_mode": {
    "name": "ipython",
    "version": 3
   },
   "file_extension": ".py",
   "mimetype": "text/x-python",
   "name": "python",
   "nbconvert_exporter": "python",
   "pygments_lexer": "ipython3",
   "version": "3.5.2"
  }
 },
 "nbformat": 4,
 "nbformat_minor": 0
}
